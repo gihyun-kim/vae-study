{
 "cells": [
  {
   "cell_type": "code",
   "execution_count": 47,
   "metadata": {},
   "outputs": [
    {
     "data": {
      "image/png": "[encoded data removed]",
      "text/plain": [
       "<Figure size 640x480 with 1 Axes>"
      ]
     },
     "metadata": {},
     "output_type": "display_data"
    }
   ],
   "source": [
    "import torch\n",
    "import numpy as np\n",
    "from sklearn.datasets import make_blobs\n",
    "import matplotlib.pyplot as plt\n",
    "\n",
    "n_dim = 2\n",
    "x_train, y_train = make_blobs(n_samples=80, n_features=n_dim, centers=[[1,1],[-1,-1],[1,-1],[-1,1]], shuffle=True, cluster_std=0.3)\n",
    "x_test, y_test = make_blobs(n_samples=20, n_features=n_dim, centers=[[1,1],[-1,-1],[1,-1],[-1,1]], shuffle=True, cluster_std=0.3)\n",
    "\n",
    "def label_map(y_, from_, to_):\n",
    "    y = np.copy(y_)\n",
    "    for f in from_:\n",
    "        y[y_ == f] = to_\n",
    "    return y\n",
    "\n",
    "y_train = label_map(y_train, [0,1], 0)\n",
    "y_train = label_map(y_train, [2,3], 1)\n",
    "y_test = label_map(y_test, [0,1], 0)\n",
    "y_test = label_map(y_test, [2,3], 1)\n",
    "\n",
    "def vis_data(x,y = None, c = 'r'):\n",
    "    if y is None:\n",
    "        y = [None]*len(x)\n",
    "    for x_, y_ in zip(x,y):\n",
    "        if y_ is None:\n",
    "            plt.plot(x_[0], x_[1], '*', markerfacecolor='none', markeredgecolor=c)\n",
    "        else:\n",
    "            plt.plot(x_[0], x_[1], c+'o' if y_ == 0 else c+'+')\n",
    "\n",
    "plt.figure()\n",
    "vis_data(x_train, y_train, c='r')\n",
    "plt.show()"
   ]
  },
  {
   "cell_type": "code",
   "execution_count": 48,
   "metadata": {},
   "outputs": [
    {
     "name": "stdout",
     "output_type": "stream",
     "text": [
      "torch.Size([80, 2])\n"
     ]
    }
   ],
   "source": [
    "x_train = torch.FloatTensor(x_train)\n",
    "print(x_train.shape)\n",
    "x_test = torch.FloatTensor(x_test)\n",
    "y_train = torch.FloatTensor(y_train)\n",
    "y_test = torch.FloatTensor(y_test)"
   ]
  },
  {
   "cell_type": "code",
   "execution_count": 50,
   "metadata": {},
   "outputs": [
    {
     "name": "stdout",
     "output_type": "stream",
     "text": [
      "Before Training, test loss is 0.7032902240753174\n"
     ]
    }
   ],
   "source": [
    "class NeuralNet(torch.nn.Module):\n",
    "    def __init__(self, input_size, hidden_size):\n",
    "\n",
    "        super(NeuralNet, self).__init__()\n",
    "\n",
    "        self.input_size = input_size\n",
    "        self.hidden_size = hidden_size\n",
    "        self.linear_1 = torch.nn.Linear(self.input_size, self.hidden_size)\n",
    "        self.relu = torch.nn.ReLU()\n",
    "        self.linear_2 = torch.nn.Linear(self.hidden_size, 1)\n",
    "        self.sigmoid = torch.nn.Sigmoid()\n",
    "\n",
    "    def forward(self, input_tensor):\n",
    "        linear1 = self.linear_1(input_tensor)\n",
    "        relu = self.relu(linear1)\n",
    "        linear2 = self.linear_2(relu)\n",
    "        output = self.sigmoid(linear2)\n",
    "        return output\n",
    "    \n",
    "model = NeuralNet(2,5)\n",
    "learning_rate = 0.03\n",
    "criterion = torch.nn.BCELoss()\n",
    "epochs = 2000\n",
    "optimizer = torch.optim.SGD(model.parameters(), lr = learning_rate)\n",
    "\n",
    "model.eval()\n",
    "test_loss_before = criterion(model(x_test).squeeze(), y_test)\n",
    "print('Before Training, test loss is {}'.format(test_loss_before.item()))"
   ]
  },
  {
   "cell_type": "code",
   "execution_count": 51,
   "metadata": {},
   "outputs": [
    {
     "name": "stdout",
     "output_type": "stream",
     "text": [
      "Train loss at 0 is 0.7050145864486694\n",
      "Train loss at 100 is 0.6572769284248352\n",
      "Train loss at 200 is 0.6071754097938538\n",
      "Train loss at 300 is 0.5522602200508118\n",
      "Train loss at 400 is 0.4934688210487366\n",
      "Train loss at 500 is 0.4237716794013977\n",
      "Train loss at 600 is 0.3393455147743225\n",
      "Train loss at 700 is 0.2707570195198059\n",
      "Train loss at 800 is 0.2181595116853714\n",
      "Train loss at 900 is 0.17952866852283478\n",
      "Train loss at 1000 is 0.1515440046787262\n",
      "Train loss at 1100 is 0.1303335577249527\n",
      "Train loss at 1200 is 0.1142568439245224\n",
      "Train loss at 1300 is 0.10187654197216034\n",
      "Train loss at 1400 is 0.09183600544929504\n",
      "Train loss at 1500 is 0.08347488939762115\n",
      "Train loss at 1600 is 0.0764782577753067\n",
      "Train loss at 1700 is 0.07054636627435684\n",
      "Train loss at 1800 is 0.06541784107685089\n",
      "Train loss at 1900 is 0.0609428696334362\n"
     ]
    }
   ],
   "source": [
    "for epoch in range(epochs):\n",
    "    model.train()\n",
    "    optimizer.zero_grad()\n",
    "    train_output = model(x_train)\n",
    "    train_loss = criterion(train_output.squeeze(), y_train)\n",
    "    if epoch % 100 == 0:\n",
    "        print('Train loss at {} is {}'.format(epoch, train_loss.item()))\n",
    "    train_loss.backward()\n",
    "    optimizer.step()"
   ]
  },
  {
   "cell_type": "code",
   "execution_count": 52,
   "metadata": {},
   "outputs": [
    {
     "name": "stdout",
     "output_type": "stream",
     "text": [
      "After Training, test loss is 0.06730259954929352\n"
     ]
    }
   ],
   "source": [
    "model.eval()\n",
    "test_loss = criterion(torch.squeeze(model(x_test)), y_test)\n",
    "print('After Training, test loss is {}'.format(test_loss.item()))"
   ]
  },
  {
   "cell_type": "code",
   "execution_count": 53,
   "metadata": {},
   "outputs": [
    {
     "name": "stdout",
     "output_type": "stream",
     "text": [
      "state_dict format of the model: OrderedDict([('linear_1.weight', tensor([[ 0.4734,  0.7131],\n",
      "        [ 0.0479, -0.1491],\n",
      "        [ 1.3256,  1.9892],\n",
      "        [-1.2023,  1.6589],\n",
      "        [-1.9409, -0.9706]])), ('linear_1.bias', tensor([-0.1003, -0.3279, -0.2801, -0.1362, -0.0378])), ('linear_2.weight', tensor([[-0.8698, -0.2152, -2.2642,  1.9057, -2.0166]])), ('linear_2.bias', tensor([2.0251]))])\n"
     ]
    }
   ],
   "source": [
    "torch.save(model.state_dict(), './model.pt')\n",
    "print('state_dict format of the model: {}'.format(model.state_dict()))"
   ]
  },
  {
   "cell_type": "code",
   "execution_count": null,
   "metadata": {},
   "outputs": [],
   "source": [
    "new_model = NeuralNet(2,5)\n",
    "new_"
   ]
  }
 ],
 "metadata": {
  "kernelspec": {
   "display_name": "Python ('vae-study')",
   "language": "python",
   "name": "python3"
  },
  "language_info": {
   "codemirror_mode": {
    "name": "ipython",
    "version": 3
   },
   "file_extension": ".py",
   "mimetype": "text/x-python",
   "name": "python",
   "nbconvert_exporter": "python",
   "pygments_lexer": "ipython3",
   "version": "3.9.13"
  },
  "orig_nbformat": 4,
  "vscode": {
   "interpreter": {
    "hash": "25a19fbe0a9132dfb9279d48d161753c6352f8f9478c2e74383d340069b907c3"
   }
  }
 },
 "nbformat": 4,
 "nbformat_minor": 2
}
