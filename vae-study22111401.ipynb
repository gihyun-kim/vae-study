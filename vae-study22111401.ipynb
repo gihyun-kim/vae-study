{
 "cells": [
  {
   "cell_type": "code",
   "execution_count": 2,
   "metadata": {},
   "outputs": [
    {
     "name": "stdout",
     "output_type": "stream",
     "text": [
      "tensor([[0.8964, 0.6647, 0.1994],\n",
      "        [0.1774, 0.0186, 0.8362],\n",
      "        [0.3474, 0.8728, 0.1598],\n",
      "        [0.5758, 0.9250, 0.9303],\n",
      "        [0.3708, 0.9258, 0.2039]])\n"
     ]
    },
    {
     "data": {
      "text/plain": [
       "True"
      ]
     },
     "execution_count": 2,
     "metadata": {},
     "output_type": "execute_result"
    }
   ],
   "source": [
    "import torch\n",
    "x = torch.rand(5,3)\n",
    "print(x)\n",
    "torch.cuda.is_available()"
   ]
  },
  {
   "cell_type": "code",
   "execution_count": 3,
   "metadata": {},
   "outputs": [
    {
     "name": "stdout",
     "output_type": "stream",
     "text": [
      "tensor([[1, 2, 3],\n",
      "        [4, 5, 6],\n",
      "        [7, 8, 9]])\n",
      "Size: torch.Size([3, 3])\n",
      "Shape: torch.Size([3, 3])\n",
      "랭크(차원): 2\n"
     ]
    }
   ],
   "source": [
    "#랭크2 텐서\n",
    "x = torch.tensor([[1,2,3],[4,5,6],[7,8,9]])\n",
    "print(x)\n",
    "print(\"Size:\",x.size())\n",
    "print(\"Shape:\",x.shape)\n",
    "print(\"랭크(차원):\",x.ndimension())"
   ]
  },
  {
   "cell_type": "code",
   "execution_count": 4,
   "metadata": {},
   "outputs": [
    {
     "name": "stdout",
     "output_type": "stream",
     "text": [
      "tensor([[[1, 2, 3],\n",
      "         [4, 5, 6],\n",
      "         [7, 8, 9]]])\n",
      "Size: torch.Size([1, 3, 3])\n",
      "Shape: torch.Size([1, 3, 3])\n",
      "랭크(차원): 3\n"
     ]
    }
   ],
   "source": [
    "x=torch.unsqueeze(x,0)\n",
    "print(x)\n",
    "print(\"Size:\",x.size())\n",
    "print(\"Shape:\",x.shape)\n",
    "print(\"랭크(차원):\",x.ndimension())"
   ]
  },
  {
   "cell_type": "code",
   "execution_count": 5,
   "metadata": {},
   "outputs": [
    {
     "name": "stdout",
     "output_type": "stream",
     "text": [
      "tensor([[1, 2, 3],\n",
      "        [4, 5, 6],\n",
      "        [7, 8, 9]])\n",
      "Size: torch.Size([3, 3])\n",
      "Shape: torch.Size([3, 3])\n",
      "랭크(차원): 2\n"
     ]
    }
   ],
   "source": [
    "x=torch.squeeze(x)\n",
    "print(x)\n",
    "print(\"Size:\",x.size())\n",
    "print(\"Shape:\",x.shape)\n",
    "print(\"랭크(차원):\",x.ndimension())"
   ]
  },
  {
   "cell_type": "code",
   "execution_count": 6,
   "metadata": {},
   "outputs": [
    {
     "name": "stdout",
     "output_type": "stream",
     "text": [
      "tensor([[1],\n",
      "        [2],\n",
      "        [3],\n",
      "        [4],\n",
      "        [5],\n",
      "        [6],\n",
      "        [7],\n",
      "        [8],\n",
      "        [9]])\n",
      "Size: torch.Size([9, 1])\n",
      "Shape: torch.Size([9, 1])\n",
      "랭크(차원): 2\n"
     ]
    }
   ],
   "source": [
    "x=x.view(9,1)\n",
    "print(x)\n",
    "print(\"Size:\",x.size())\n",
    "print(\"Shape:\",x.shape)\n",
    "print(\"랭크(차원):\",x.ndimension())"
   ]
  },
  {
   "cell_type": "code",
   "execution_count": 7,
   "metadata": {},
   "outputs": [
    {
     "name": "stdout",
     "output_type": "stream",
     "text": [
      "tensor([[1, 2, 3, 4, 5, 6, 7, 8, 9]])\n",
      "Size: torch.Size([1, 9])\n",
      "Shape: torch.Size([1, 9])\n",
      "랭크(차원): 2\n"
     ]
    }
   ],
   "source": [
    "x=x.view(1,9)\n",
    "print(x)\n",
    "print(\"Size:\",x.size())\n",
    "print(\"Shape:\",x.shape)\n",
    "print(\"랭크(차원):\",x.ndimension())"
   ]
  },
  {
   "cell_type": "code",
   "execution_count": 8,
   "metadata": {},
   "outputs": [
    {
     "name": "stdout",
     "output_type": "stream",
     "text": [
      "tensor([1, 2, 3, 4, 5, 6, 7, 8, 9])\n",
      "Size: torch.Size([9])\n",
      "Shape: torch.Size([9])\n",
      "랭크(차원): 1\n"
     ]
    }
   ],
   "source": [
    "x=x.view(9)\n",
    "print(x)\n",
    "print(\"Size:\",x.size())\n",
    "print(\"Shape:\",x.shape)\n",
    "print(\"랭크(차원):\",x.ndimension())"
   ]
  },
  {
   "cell_type": "code",
   "execution_count": 9,
   "metadata": {},
   "outputs": [
    {
     "name": "stdout",
     "output_type": "stream",
     "text": [
      "tensor([[22, 28],\n",
      "        [49, 64]])\n",
      "torch.Size([2, 2])\n"
     ]
    }
   ],
   "source": [
    "#행렬 곱\n",
    "w=torch.tensor([[1,2,3],[4,5,6]])\n",
    "x=torch.tensor([[1,2],[3,4],[5,6]])\n",
    "wx=torch.mm(w,x)\n",
    "print(wx)\n",
    "print(wx.size())"
   ]
  },
  {
   "cell_type": "code",
   "execution_count": 10,
   "metadata": {},
   "outputs": [
    {
     "name": "stdout",
     "output_type": "stream",
     "text": [
      "tensor([[-0.7799, -0.5208],\n",
      "        [ 0.6781, -0.9638]])\n",
      "tensor([[21.2201, 27.4792],\n",
      "        [49.6781, 63.0362]])\n",
      "torch.Size([2, 2])\n"
     ]
    }
   ],
   "source": [
    "#합\n",
    "b=torch.randn(2,2, dtype=torch.float)\n",
    "print(b)\n",
    "result=wx+b\n",
    "print(result)\n",
    "print(result.size())"
   ]
  },
  {
   "cell_type": "code",
   "execution_count": 16,
   "metadata": {},
   "outputs": [
    {
     "name": "stdout",
     "output_type": "stream",
     "text": [
      "tensor(18.)\n"
     ]
    }
   ],
   "source": [
    "w=torch.tensor(1.0, requires_grad=True)\n",
    "a=w*3\n",
    "l=a**2\n",
    "l.backward()\n",
    "print(w.grad)"
   ]
  }
 ],
 "metadata": {
  "kernelspec": {
   "display_name": "Python ('vae-study')",
   "language": "python",
   "name": "python3"
  },
  "language_info": {
   "codemirror_mode": {
    "name": "ipython",
    "version": 3
   },
   "file_extension": ".py",
   "mimetype": "text/x-python",
   "name": "python",
   "nbconvert_exporter": "python",
   "pygments_lexer": "ipython3",
   "version": "3.9.13"
  },
  "orig_nbformat": 4,
  "vscode": {
   "interpreter": {
    "hash": "25a19fbe0a9132dfb9279d48d161753c6352f8f9478c2e74383d340069b907c3"
   }
  }
 },
 "nbformat": 4,
 "nbformat_minor": 2
}
